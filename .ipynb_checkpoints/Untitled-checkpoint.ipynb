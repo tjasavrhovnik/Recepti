{
 "cells": [
  {
   "cell_type": "markdown",
   "metadata": {},
   "source": [
    "# Analiza receptov"
   ]
  },
  {
   "cell_type": "markdown",
   "metadata": {},
   "source": [
    "Analizirali bomo recepte mesnih jedi s spletne strani kulinarika.net. Zajetih je približno 1800 podatkov, ki vsebujejo datum objave, ime jedi, vrsto, čas priprave, število porcij in avtorja. Nekateri podatki so manjkajoči, ker jih bodisi ni bilo v samem opisu recepta, bodisi so bili neprimerni za obdelavo. Sem spadajo podatki iz kategorije število porcij, kjer so nekateri avtorji opisno opisali količino, drugi pa podali količino v teži ali številu (npr. x kosov), ki nista nujno povezana s številom porcij. Iz večine podatkov je bilo možno sklepati na število porcij, zato sem se omejila na le-te. Porcije oblike x-y oseb so zaokrožene navzgor. Podatki iz kategorije o času priprave so pretvorjeni v minute, izračunane so srednje vrednosti in zaokrožene navzdol.\n",
    "Zahtevnost je ovrednotena s stopnjo 1 (najlažja) do 5 (najtežja)."
   ]
  },
  {
   "cell_type": "code",
   "execution_count": 1,
   "metadata": {
    "collapsed": true
   },
   "outputs": [],
   "source": [
    "import pandas as pd\n",
    "import numpy as np\n",
    "import matplotlib.pyplot as plt\n",
    "%matplotlib inline\n",
    "from pandas import DataFrame\n",
    "              \n",
    "jedi = pd.read_csv('jedi.csv', index_col='datum')\n",
    "pd.options.display.max_rows = 20\n",
    "plt.rcParams['font.family'] = 'sans-serif'"
   ]
  },
  {
   "cell_type": "markdown",
   "metadata": {},
   "source": [
    "Najprej si oglejmo podatke."
   ]
  },
  {
   "cell_type": "code",
   "execution_count": 2,
   "metadata": {
    "scrolled": true
   },
   "outputs": [
    {
     "data": {
      "text/html": [
       "<div>\n",
       "<style>\n",
       "    .dataframe thead tr:only-child th {\n",
       "        text-align: right;\n",
       "    }\n",
       "\n",
       "    .dataframe thead th {\n",
       "        text-align: left;\n",
       "    }\n",
       "\n",
       "    .dataframe tbody tr th {\n",
       "        vertical-align: top;\n",
       "    }\n",
       "</style>\n",
       "<table border=\"1\" class=\"dataframe\">\n",
       "  <thead>\n",
       "    <tr style=\"text-align: right;\">\n",
       "      <th></th>\n",
       "      <th>jed</th>\n",
       "      <th>vrsta</th>\n",
       "      <th>cas priprave [min]</th>\n",
       "      <th>zahtevnost</th>\n",
       "      <th>st. porcij</th>\n",
       "      <th>avtor</th>\n",
       "      <th>leto</th>\n",
       "    </tr>\n",
       "    <tr>\n",
       "      <th>datum</th>\n",
       "      <th></th>\n",
       "      <th></th>\n",
       "      <th></th>\n",
       "      <th></th>\n",
       "      <th></th>\n",
       "      <th></th>\n",
       "      <th></th>\n",
       "    </tr>\n",
       "  </thead>\n",
       "  <tbody>\n",
       "    <tr>\n",
       "      <th>14.12.2017</th>\n",
       "      <td>Divjačinski zrezki v omaki</td>\n",
       "      <td>divjačina</td>\n",
       "      <td>180.0</td>\n",
       "      <td>4</td>\n",
       "      <td>5.0</td>\n",
       "      <td>anagorse</td>\n",
       "      <td>2017</td>\n",
       "    </tr>\n",
       "    <tr>\n",
       "      <th>8.11.2017</th>\n",
       "      <td>Gratinirana pasta s puranom in gorgonzolo</td>\n",
       "      <td>perutnina</td>\n",
       "      <td>45.0</td>\n",
       "      <td>1</td>\n",
       "      <td>1.0</td>\n",
       "      <td>AlexStarsky</td>\n",
       "      <td>2017</td>\n",
       "    </tr>\n",
       "    <tr>\n",
       "      <th>4.11.2017</th>\n",
       "      <td>Puranja rulada (šunka in sir)</td>\n",
       "      <td>perutnina</td>\n",
       "      <td>45.0</td>\n",
       "      <td>1</td>\n",
       "      <td>NaN</td>\n",
       "      <td>AlexStarsky</td>\n",
       "      <td>2017</td>\n",
       "    </tr>\n",
       "    <tr>\n",
       "      <th>20.10.2017</th>\n",
       "      <td>Mehiška tortilja</td>\n",
       "      <td>govedina</td>\n",
       "      <td>30.0</td>\n",
       "      <td>2</td>\n",
       "      <td>3.0</td>\n",
       "      <td>Schär</td>\n",
       "      <td>2017</td>\n",
       "    </tr>\n",
       "    <tr>\n",
       "      <th>31.8.2017</th>\n",
       "      <td>Piščančja rižota s korenjem</td>\n",
       "      <td>perutnina</td>\n",
       "      <td>45.0</td>\n",
       "      <td>2</td>\n",
       "      <td>1.0</td>\n",
       "      <td>baterija</td>\n",
       "      <td>2017</td>\n",
       "    </tr>\n",
       "    <tr>\n",
       "      <th>28.8.2017</th>\n",
       "      <td>Telečja krača v pečici</td>\n",
       "      <td>teletina</td>\n",
       "      <td>180.0</td>\n",
       "      <td>3</td>\n",
       "      <td>NaN</td>\n",
       "      <td>tinka40</td>\n",
       "      <td>2017</td>\n",
       "    </tr>\n",
       "    <tr>\n",
       "      <th>12.8.2017</th>\n",
       "      <td>Piščančji ražnjiči</td>\n",
       "      <td>perutnina</td>\n",
       "      <td>60.0</td>\n",
       "      <td>3</td>\n",
       "      <td>NaN</td>\n",
       "      <td>tinka40</td>\n",
       "      <td>2017</td>\n",
       "    </tr>\n",
       "    <tr>\n",
       "      <th>24.7.2017</th>\n",
       "      <td>Virgol'c</td>\n",
       "      <td>sesekljano meso</td>\n",
       "      <td>45.0</td>\n",
       "      <td>2</td>\n",
       "      <td>4.0</td>\n",
       "      <td>gligor</td>\n",
       "      <td>2017</td>\n",
       "    </tr>\n",
       "    <tr>\n",
       "      <th>14.7.2017</th>\n",
       "      <td>Bučno - piščančje roladice</td>\n",
       "      <td>svinjina</td>\n",
       "      <td>45.0</td>\n",
       "      <td>2</td>\n",
       "      <td>4.0</td>\n",
       "      <td>Vrtejbenka</td>\n",
       "      <td>2017</td>\n",
       "    </tr>\n",
       "    <tr>\n",
       "      <th>10.7.2017</th>\n",
       "      <td>Arančini - riževe kroglice Montalbano</td>\n",
       "      <td>sesekljano meso</td>\n",
       "      <td>90.0</td>\n",
       "      <td>3</td>\n",
       "      <td>NaN</td>\n",
       "      <td>mamamia</td>\n",
       "      <td>2017</td>\n",
       "    </tr>\n",
       "    <tr>\n",
       "      <th>...</th>\n",
       "      <td>...</td>\n",
       "      <td>...</td>\n",
       "      <td>...</td>\n",
       "      <td>...</td>\n",
       "      <td>...</td>\n",
       "      <td>...</td>\n",
       "      <td>...</td>\n",
       "    </tr>\n",
       "    <tr>\n",
       "      <th>18.4.2006</th>\n",
       "      <td>Puran z ingverjem</td>\n",
       "      <td>perutnina</td>\n",
       "      <td>60.0</td>\n",
       "      <td>2</td>\n",
       "      <td>6.0</td>\n",
       "      <td>Blanchy</td>\n",
       "      <td>2006</td>\n",
       "    </tr>\n",
       "    <tr>\n",
       "      <th>17.4.2006</th>\n",
       "      <td>Puranji zrezki v gobovi omaki</td>\n",
       "      <td>ostalo</td>\n",
       "      <td>NaN</td>\n",
       "      <td>2</td>\n",
       "      <td>NaN</td>\n",
       "      <td>PERO</td>\n",
       "      <td>2006</td>\n",
       "    </tr>\n",
       "    <tr>\n",
       "      <th>17.4.2006</th>\n",
       "      <td>Piščančji zrezki v omaki</td>\n",
       "      <td>perutnina</td>\n",
       "      <td>NaN</td>\n",
       "      <td>2</td>\n",
       "      <td>4.0</td>\n",
       "      <td>kalcicl</td>\n",
       "      <td>2006</td>\n",
       "    </tr>\n",
       "    <tr>\n",
       "      <th>17.4.2006</th>\n",
       "      <td>Puranje meso z mlinci</td>\n",
       "      <td>perutnina</td>\n",
       "      <td>NaN</td>\n",
       "      <td>2</td>\n",
       "      <td>NaN</td>\n",
       "      <td>Miškolina</td>\n",
       "      <td>2006</td>\n",
       "    </tr>\n",
       "    <tr>\n",
       "      <th>14.4.2006</th>\n",
       "      <td>Vampi s krompirjem</td>\n",
       "      <td>notranji deli</td>\n",
       "      <td>90.0</td>\n",
       "      <td>2</td>\n",
       "      <td>NaN</td>\n",
       "      <td>val</td>\n",
       "      <td>2006</td>\n",
       "    </tr>\n",
       "    <tr>\n",
       "      <th>11.4.2006</th>\n",
       "      <td>Mleta pečenka</td>\n",
       "      <td>sesekljano meso</td>\n",
       "      <td>90.0</td>\n",
       "      <td>2</td>\n",
       "      <td>6.0</td>\n",
       "      <td>anamarija1</td>\n",
       "      <td>2006</td>\n",
       "    </tr>\n",
       "    <tr>\n",
       "      <th>11.4.2006</th>\n",
       "      <td>Pisana ponev</td>\n",
       "      <td>mešano meso</td>\n",
       "      <td>NaN</td>\n",
       "      <td>1</td>\n",
       "      <td>NaN</td>\n",
       "      <td>anagerzina</td>\n",
       "      <td>2006</td>\n",
       "    </tr>\n",
       "    <tr>\n",
       "      <th>8.4.2006</th>\n",
       "      <td>Lazanja s piščančjim mesom</td>\n",
       "      <td>perutnina</td>\n",
       "      <td>75.0</td>\n",
       "      <td>3</td>\n",
       "      <td>9.0</td>\n",
       "      <td>nektarina</td>\n",
       "      <td>2006</td>\n",
       "    </tr>\n",
       "    <tr>\n",
       "      <th>8.4.2006</th>\n",
       "      <td>Junečji tournedo v smetanovi omaki s šampinjoni</td>\n",
       "      <td>govedina</td>\n",
       "      <td>NaN</td>\n",
       "      <td>3</td>\n",
       "      <td>4.0</td>\n",
       "      <td>sarabande</td>\n",
       "      <td>2006</td>\n",
       "    </tr>\n",
       "    <tr>\n",
       "      <th>5.4.2006</th>\n",
       "      <td>Pikantna svinjska rebra s prilogo</td>\n",
       "      <td>svinjina</td>\n",
       "      <td>NaN</td>\n",
       "      <td>2</td>\n",
       "      <td>2.0</td>\n",
       "      <td>pppp</td>\n",
       "      <td>2006</td>\n",
       "    </tr>\n",
       "  </tbody>\n",
       "</table>\n",
       "<p>1686 rows × 7 columns</p>\n",
       "</div>"
      ],
      "text/plain": [
       "                                                        jed            vrsta  \\\n",
       "datum                                                                          \n",
       "14.12.2017                       Divjačinski zrezki v omaki        divjačina   \n",
       "8.11.2017         Gratinirana pasta s puranom in gorgonzolo        perutnina   \n",
       "4.11.2017                     Puranja rulada (šunka in sir)        perutnina   \n",
       "20.10.2017                                 Mehiška tortilja         govedina   \n",
       "31.8.2017                       Piščančja rižota s korenjem        perutnina   \n",
       "28.8.2017                            Telečja krača v pečici         teletina   \n",
       "12.8.2017                                Piščančji ražnjiči        perutnina   \n",
       "24.7.2017                                          Virgol'c  sesekljano meso   \n",
       "14.7.2017                        Bučno - piščančje roladice         svinjina   \n",
       "10.7.2017             Arančini - riževe kroglice Montalbano  sesekljano meso   \n",
       "...                                                     ...              ...   \n",
       "18.4.2006                                 Puran z ingverjem        perutnina   \n",
       "17.4.2006                     Puranji zrezki v gobovi omaki           ostalo   \n",
       "17.4.2006                          Piščančji zrezki v omaki        perutnina   \n",
       "17.4.2006                             Puranje meso z mlinci        perutnina   \n",
       "14.4.2006                                Vampi s krompirjem    notranji deli   \n",
       "11.4.2006                                     Mleta pečenka  sesekljano meso   \n",
       "11.4.2006                                      Pisana ponev      mešano meso   \n",
       "8.4.2006                         Lazanja s piščančjim mesom        perutnina   \n",
       "8.4.2006    Junečji tournedo v smetanovi omaki s šampinjoni         govedina   \n",
       "5.4.2006                  Pikantna svinjska rebra s prilogo         svinjina   \n",
       "\n",
       "            cas priprave [min]  zahtevnost  st. porcij        avtor  leto  \n",
       "datum                                                                      \n",
       "14.12.2017               180.0           4         5.0     anagorse  2017  \n",
       "8.11.2017                 45.0           1         1.0  AlexStarsky  2017  \n",
       "4.11.2017                 45.0           1         NaN  AlexStarsky  2017  \n",
       "20.10.2017                30.0           2         3.0        Schär  2017  \n",
       "31.8.2017                 45.0           2         1.0     baterija  2017  \n",
       "28.8.2017                180.0           3         NaN      tinka40  2017  \n",
       "12.8.2017                 60.0           3         NaN      tinka40  2017  \n",
       "24.7.2017                 45.0           2         4.0       gligor  2017  \n",
       "14.7.2017                 45.0           2         4.0   Vrtejbenka  2017  \n",
       "10.7.2017                 90.0           3         NaN      mamamia  2017  \n",
       "...                        ...         ...         ...          ...   ...  \n",
       "18.4.2006                 60.0           2         6.0      Blanchy  2006  \n",
       "17.4.2006                  NaN           2         NaN         PERO  2006  \n",
       "17.4.2006                  NaN           2         4.0      kalcicl  2006  \n",
       "17.4.2006                  NaN           2         NaN    Miškolina  2006  \n",
       "14.4.2006                 90.0           2         NaN          val  2006  \n",
       "11.4.2006                 90.0           2         6.0   anamarija1  2006  \n",
       "11.4.2006                  NaN           1         NaN   anagerzina  2006  \n",
       "8.4.2006                  75.0           3         9.0    nektarina  2006  \n",
       "8.4.2006                   NaN           3         4.0    sarabande  2006  \n",
       "5.4.2006                   NaN           2         2.0         pppp  2006  \n",
       "\n",
       "[1686 rows x 7 columns]"
      ]
     },
     "execution_count": 2,
     "metadata": {},
     "output_type": "execute_result"
    }
   ],
   "source": [
    "jedi"
   ]
  },
  {
   "cell_type": "markdown",
   "metadata": {},
   "source": [
    "Kako popularna je spletna stran v zadnjih letih?"
   ]
  },
  {
   "cell_type": "code",
   "execution_count": 3,
   "metadata": {
    "collapsed": true
   },
   "outputs": [],
   "source": [
    "jedi_po_letih = jedi.groupby('leto')"
   ]
  },
  {
   "cell_type": "code",
   "execution_count": 4,
   "metadata": {},
   "outputs": [
    {
     "data": {
      "text/plain": [
       "leto\n",
       "1997      2\n",
       "1998     16\n",
       "1999     17\n",
       "2000     21\n",
       "2001     66\n",
       "2002     39\n",
       "2003     65\n",
       "2004    110\n",
       "2005    125\n",
       "2006    140\n",
       "       ... \n",
       "2008    128\n",
       "2009    117\n",
       "2010    123\n",
       "2011    169\n",
       "2012    152\n",
       "2013     87\n",
       "2014     87\n",
       "2015     52\n",
       "2016     24\n",
       "2017     27\n",
       "Length: 21, dtype: int64"
      ]
     },
     "execution_count": 4,
     "metadata": {},
     "output_type": "execute_result"
    }
   ],
   "source": [
    "jedi_po_letih.size()"
   ]
  },
  {
   "cell_type": "code",
   "execution_count": 5,
   "metadata": {},
   "outputs": [
    {
     "data": {
      "text/plain": [
       "<matplotlib.axes._subplots.AxesSubplot at 0x18a67cd7748>"
      ]
     },
     "execution_count": 5,
     "metadata": {},
     "output_type": "execute_result"
    },
    {
     "data": {
      "image/png": "[encoded data removed]",
      "text/plain": [
       "<matplotlib.figure.Figure at 0x18a660a24a8>"
      ]
     },
     "metadata": {},
     "output_type": "display_data"
    }
   ],
   "source": [
    "jedi_po_letih.size().plot(figsize=(10,5), title = 'Število receptov po letih')"
   ]
  },
  {
   "cell_type": "markdown",
   "metadata": {},
   "source": [
    "Opazimo, da je pred 15 leti število receptov močno naraščalo, v zadnjih letih pa se zmanjšuje. Vzrok bi pripisala porastu priljubljenosti spletnih forumov, ko so se le-ti pojavili in povečanju uporabe interneta po letu 2000. V zadnjih letih je kuhanje resda priljubljeno in morda je širok nabor kuharskih oddaj in dostopnost receptov prispeval k upadu objav. Morda pa je število receptov povezano z avtorji. Poglejmo, kdo je prispeval največ receptov."
   ]
  },
  {
   "cell_type": "code",
   "execution_count": 6,
   "metadata": {
    "scrolled": false
   },
   "outputs": [
    {
     "data": {
      "text/plain": [
       "<matplotlib.axes._subplots.AxesSubplot at 0x18a680b5ac8>"
      ]
     },
     "execution_count": 6,
     "metadata": {},
     "output_type": "execute_result"
    },
    {
     "data": {
      "image/png": "[encoded data removed]",
      "text/plain": [
       "<matplotlib.figure.Figure at 0x18a68041e10>"
      ]
     },
     "metadata": {},
     "output_type": "display_data"
    }
   ],
   "source": [
    "stevec_avtorjev = jedi['avtor'].value_counts()\n",
    "stevec_avtorjev[:15].plot.bar(figsize=(10,5), title = 'Število receptov po avtorjih')"
   ]
  },
  {
   "cell_type": "markdown",
   "metadata": {},
   "source": [
    "To je prvih 15 avtorjev. Kot vidimo, nekaj avtorjev odstopa, potem pa se število precej hitro zmanjšuje in kmalu izravna.\n",
    "Zato si oglejmo še razporeditev števila receptov po avtorjih."
   ]
  },
  {
   "cell_type": "code",
   "execution_count": 91,
   "metadata": {
    "scrolled": true
   },
   "outputs": [
    {
     "data": {
      "text/plain": [
       "<matplotlib.axes._subplots.AxesSubplot at 0x18a6a099438>"
      ]
     },
     "execution_count": 91,
     "metadata": {},
     "output_type": "execute_result"
    },
    {
     "data": {
      "image/png": "[encoded data removed]",
      "text/plain": [
       "<matplotlib.figure.Figure at 0x18a6c75b780>"
      ]
     },
     "metadata": {},
     "output_type": "display_data"
    }
   ],
   "source": [
    "stevec_avtorjev.plot(kind='box', title = 'Razporeditev števila receptov po avtorjih')"
   ]
  },
  {
   "cell_type": "markdown",
   "metadata": {},
   "source": [
    "Zgostitev opazimo pri le nekaj receptih, nad 20 objav pa ima le malo avtorjev. Te smo prikazali na prejšnjem grafu. \n",
    "Poglejmo, koliko receptov je objavil povprečen avtor."
   ]
  },
  {
   "cell_type": "code",
   "execution_count": 58,
   "metadata": {},
   "outputs": [
    {
     "data": {
      "text/plain": [
       "2.1409921671018277"
      ]
     },
     "execution_count": 58,
     "metadata": {},
     "output_type": "execute_result"
    }
   ],
   "source": [
    "jedi.groupby('avtor').size().sort_values(ascending=False).mean()"
   ]
  },
  {
   "cell_type": "markdown",
   "metadata": {},
   "source": [
    "Povprečno število natančneje pove, kar smo sklepali s škatlastega grafa."
   ]
  },
  {
   "cell_type": "markdown",
   "metadata": {},
   "source": [
    "Prej smo videli, da je Marinka avtorica z največ objavljenimi recepti, zato si jih podrobneje oglejmo."
   ]
  },
  {
   "cell_type": "code",
   "execution_count": 55,
   "metadata": {
    "scrolled": true
   },
   "outputs": [
    {
     "data": {
      "text/html": [
       "<div>\n",
       "<style>\n",
       "    .dataframe thead tr:only-child th {\n",
       "        text-align: right;\n",
       "    }\n",
       "\n",
       "    .dataframe thead th {\n",
       "        text-align: left;\n",
       "    }\n",
       "\n",
       "    .dataframe tbody tr th {\n",
       "        vertical-align: top;\n",
       "    }\n",
       "</style>\n",
       "<table border=\"1\" class=\"dataframe\">\n",
       "  <thead>\n",
       "    <tr style=\"text-align: right;\">\n",
       "      <th></th>\n",
       "      <th>jed</th>\n",
       "      <th>vrsta</th>\n",
       "      <th>cas priprave [min]</th>\n",
       "      <th>zahtevnost</th>\n",
       "      <th>st. porcij</th>\n",
       "      <th>avtor</th>\n",
       "      <th>leto</th>\n",
       "      <th>triletje</th>\n",
       "    </tr>\n",
       "    <tr>\n",
       "      <th>datum</th>\n",
       "      <th></th>\n",
       "      <th></th>\n",
       "      <th></th>\n",
       "      <th></th>\n",
       "      <th></th>\n",
       "      <th></th>\n",
       "      <th></th>\n",
       "      <th></th>\n",
       "    </tr>\n",
       "  </thead>\n",
       "  <tbody>\n",
       "    <tr>\n",
       "      <th>20.12.1997</th>\n",
       "      <td>Hladna goveja pečenka</td>\n",
       "      <td>govedina</td>\n",
       "      <td>NaN</td>\n",
       "      <td>1</td>\n",
       "      <td>NaN</td>\n",
       "      <td>Marinka</td>\n",
       "      <td>1997</td>\n",
       "      <td>1995</td>\n",
       "    </tr>\n",
       "    <tr>\n",
       "      <th>20.12.1997</th>\n",
       "      <td>Popečeni koščki mesa</td>\n",
       "      <td>ostalo</td>\n",
       "      <td>NaN</td>\n",
       "      <td>1</td>\n",
       "      <td>NaN</td>\n",
       "      <td>Marinka</td>\n",
       "      <td>1997</td>\n",
       "      <td>1995</td>\n",
       "    </tr>\n",
       "    <tr>\n",
       "      <th>14.12.1998</th>\n",
       "      <td>Tatarski biftek</td>\n",
       "      <td>govedina</td>\n",
       "      <td>NaN</td>\n",
       "      <td>1</td>\n",
       "      <td>NaN</td>\n",
       "      <td>Marinka</td>\n",
       "      <td>1998</td>\n",
       "      <td>1998</td>\n",
       "    </tr>\n",
       "    <tr>\n",
       "      <th>13.11.1998</th>\n",
       "      <td>Martinova gos ali raca</td>\n",
       "      <td>perutnina</td>\n",
       "      <td>NaN</td>\n",
       "      <td>1</td>\n",
       "      <td>NaN</td>\n",
       "      <td>Marinka</td>\n",
       "      <td>1998</td>\n",
       "      <td>1998</td>\n",
       "    </tr>\n",
       "    <tr>\n",
       "      <th>24.9.1998</th>\n",
       "      <td>Srnin hrbet v lovski omaki</td>\n",
       "      <td>divjačina</td>\n",
       "      <td>NaN</td>\n",
       "      <td>3</td>\n",
       "      <td>NaN</td>\n",
       "      <td>Marinka</td>\n",
       "      <td>1998</td>\n",
       "      <td>1998</td>\n",
       "    </tr>\n",
       "    <tr>\n",
       "      <th>22.4.1998</th>\n",
       "      <td>Pečen jagenjček</td>\n",
       "      <td>drobnica</td>\n",
       "      <td>NaN</td>\n",
       "      <td>1</td>\n",
       "      <td>NaN</td>\n",
       "      <td>Marinka</td>\n",
       "      <td>1998</td>\n",
       "      <td>1998</td>\n",
       "    </tr>\n",
       "    <tr>\n",
       "      <th>26.6.1998</th>\n",
       "      <td>Pečen zajec</td>\n",
       "      <td>ostalo</td>\n",
       "      <td>NaN</td>\n",
       "      <td>1</td>\n",
       "      <td>NaN</td>\n",
       "      <td>Marinka</td>\n",
       "      <td>1998</td>\n",
       "      <td>1998</td>\n",
       "    </tr>\n",
       "    <tr>\n",
       "      <th>26.6.1998</th>\n",
       "      <td>Šunka v testu</td>\n",
       "      <td>svinjina</td>\n",
       "      <td>NaN</td>\n",
       "      <td>3</td>\n",
       "      <td>NaN</td>\n",
       "      <td>Marinka</td>\n",
       "      <td>1998</td>\n",
       "      <td>1998</td>\n",
       "    </tr>\n",
       "    <tr>\n",
       "      <th>26.6.1998</th>\n",
       "      <td>Meso mlade košute</td>\n",
       "      <td>divjačina</td>\n",
       "      <td>NaN</td>\n",
       "      <td>1</td>\n",
       "      <td>NaN</td>\n",
       "      <td>Marinka</td>\n",
       "      <td>1998</td>\n",
       "      <td>1998</td>\n",
       "    </tr>\n",
       "    <tr>\n",
       "      <th>17.5.1998</th>\n",
       "      <td>Havajski ražnjiči</td>\n",
       "      <td>govedina</td>\n",
       "      <td>NaN</td>\n",
       "      <td>1</td>\n",
       "      <td>NaN</td>\n",
       "      <td>Marinka</td>\n",
       "      <td>1998</td>\n",
       "      <td>1998</td>\n",
       "    </tr>\n",
       "    <tr>\n",
       "      <th>...</th>\n",
       "      <td>...</td>\n",
       "      <td>...</td>\n",
       "      <td>...</td>\n",
       "      <td>...</td>\n",
       "      <td>...</td>\n",
       "      <td>...</td>\n",
       "      <td>...</td>\n",
       "      <td>...</td>\n",
       "    </tr>\n",
       "    <tr>\n",
       "      <th>14.12.2007</th>\n",
       "      <td>Piščančji curry</td>\n",
       "      <td>perutnina</td>\n",
       "      <td>120.0</td>\n",
       "      <td>4</td>\n",
       "      <td>4.0</td>\n",
       "      <td>Marinka</td>\n",
       "      <td>2007</td>\n",
       "      <td>2007</td>\n",
       "    </tr>\n",
       "    <tr>\n",
       "      <th>14.12.2007</th>\n",
       "      <td>Piščanec na žaru po indijsko</td>\n",
       "      <td>perutnina</td>\n",
       "      <td>240.0</td>\n",
       "      <td>2</td>\n",
       "      <td>4.0</td>\n",
       "      <td>Marinka</td>\n",
       "      <td>2007</td>\n",
       "      <td>2007</td>\n",
       "    </tr>\n",
       "    <tr>\n",
       "      <th>14.12.2007</th>\n",
       "      <td>Bengalski curry</td>\n",
       "      <td>perutnina</td>\n",
       "      <td>75.0</td>\n",
       "      <td>3</td>\n",
       "      <td>4.0</td>\n",
       "      <td>Marinka</td>\n",
       "      <td>2007</td>\n",
       "      <td>2007</td>\n",
       "    </tr>\n",
       "    <tr>\n",
       "      <th>14.12.2007</th>\n",
       "      <td>Jagnječji curry z jogurtom</td>\n",
       "      <td>drobnica</td>\n",
       "      <td>60.0</td>\n",
       "      <td>2</td>\n",
       "      <td>4.0</td>\n",
       "      <td>Marinka</td>\n",
       "      <td>2007</td>\n",
       "      <td>2007</td>\n",
       "    </tr>\n",
       "    <tr>\n",
       "      <th>13.12.2007</th>\n",
       "      <td>Jagnječji curry</td>\n",
       "      <td>drobnica</td>\n",
       "      <td>90.0</td>\n",
       "      <td>2</td>\n",
       "      <td>4.0</td>\n",
       "      <td>Marinka</td>\n",
       "      <td>2007</td>\n",
       "      <td>2007</td>\n",
       "    </tr>\n",
       "    <tr>\n",
       "      <th>13.12.2007</th>\n",
       "      <td>Pakistanska duševa govedina</td>\n",
       "      <td>govedina</td>\n",
       "      <td>120.0</td>\n",
       "      <td>3</td>\n",
       "      <td>4.0</td>\n",
       "      <td>Marinka</td>\n",
       "      <td>2007</td>\n",
       "      <td>2007</td>\n",
       "    </tr>\n",
       "    <tr>\n",
       "      <th>7.12.2007</th>\n",
       "      <td>Jagnjetina z redkvijo po nepalsko</td>\n",
       "      <td>drobnica</td>\n",
       "      <td>120.0</td>\n",
       "      <td>4</td>\n",
       "      <td>4.0</td>\n",
       "      <td>Marinka</td>\n",
       "      <td>2007</td>\n",
       "      <td>2007</td>\n",
       "    </tr>\n",
       "    <tr>\n",
       "      <th>6.12.2007</th>\n",
       "      <td>Z jagnjetino polnjeno zelje</td>\n",
       "      <td>drobnica</td>\n",
       "      <td>120.0</td>\n",
       "      <td>5</td>\n",
       "      <td>4.0</td>\n",
       "      <td>Marinka</td>\n",
       "      <td>2007</td>\n",
       "      <td>2007</td>\n",
       "    </tr>\n",
       "    <tr>\n",
       "      <th>9.1.2007</th>\n",
       "      <td>Govedina na žaru po korejsko</td>\n",
       "      <td>govedina</td>\n",
       "      <td>NaN</td>\n",
       "      <td>3</td>\n",
       "      <td>4.0</td>\n",
       "      <td>Marinka</td>\n",
       "      <td>2007</td>\n",
       "      <td>2007</td>\n",
       "    </tr>\n",
       "    <tr>\n",
       "      <th>8.1.2007</th>\n",
       "      <td>Piščanec v sojini omaki po korejsko</td>\n",
       "      <td>perutnina</td>\n",
       "      <td>NaN</td>\n",
       "      <td>2</td>\n",
       "      <td>NaN</td>\n",
       "      <td>Marinka</td>\n",
       "      <td>2007</td>\n",
       "      <td>2007</td>\n",
       "    </tr>\n",
       "  </tbody>\n",
       "</table>\n",
       "<p>89 rows × 8 columns</p>\n",
       "</div>"
      ],
      "text/plain": [
       "                                            jed      vrsta  \\\n",
       "datum                                                        \n",
       "20.12.1997                Hladna goveja pečenka   govedina   \n",
       "20.12.1997                 Popečeni koščki mesa     ostalo   \n",
       "14.12.1998                      Tatarski biftek   govedina   \n",
       "13.11.1998               Martinova gos ali raca  perutnina   \n",
       "24.9.1998            Srnin hrbet v lovski omaki  divjačina   \n",
       "22.4.1998                       Pečen jagenjček   drobnica   \n",
       "26.6.1998                           Pečen zajec     ostalo   \n",
       "26.6.1998                         Šunka v testu   svinjina   \n",
       "26.6.1998                     Meso mlade košute  divjačina   \n",
       "17.5.1998                     Havajski ražnjiči   govedina   \n",
       "...                                         ...        ...   \n",
       "14.12.2007                      Piščančji curry  perutnina   \n",
       "14.12.2007         Piščanec na žaru po indijsko  perutnina   \n",
       "14.12.2007                      Bengalski curry  perutnina   \n",
       "14.12.2007           Jagnječji curry z jogurtom   drobnica   \n",
       "13.12.2007                      Jagnječji curry   drobnica   \n",
       "13.12.2007          Pakistanska duševa govedina   govedina   \n",
       "7.12.2007     Jagnjetina z redkvijo po nepalsko   drobnica   \n",
       "6.12.2007           Z jagnjetino polnjeno zelje   drobnica   \n",
       "9.1.2007           Govedina na žaru po korejsko   govedina   \n",
       "8.1.2007    Piščanec v sojini omaki po korejsko  perutnina   \n",
       "\n",
       "            cas priprave [min]  zahtevnost  st. porcij    avtor  leto  \\\n",
       "datum                                                                   \n",
       "20.12.1997                 NaN           1         NaN  Marinka  1997   \n",
       "20.12.1997                 NaN           1         NaN  Marinka  1997   \n",
       "14.12.1998                 NaN           1         NaN  Marinka  1998   \n",
       "13.11.1998                 NaN           1         NaN  Marinka  1998   \n",
       "24.9.1998                  NaN           3         NaN  Marinka  1998   \n",
       "22.4.1998                  NaN           1         NaN  Marinka  1998   \n",
       "26.6.1998                  NaN           1         NaN  Marinka  1998   \n",
       "26.6.1998                  NaN           3         NaN  Marinka  1998   \n",
       "26.6.1998                  NaN           1         NaN  Marinka  1998   \n",
       "17.5.1998                  NaN           1         NaN  Marinka  1998   \n",
       "...                        ...         ...         ...      ...   ...   \n",
       "14.12.2007               120.0           4         4.0  Marinka  2007   \n",
       "14.12.2007               240.0           2         4.0  Marinka  2007   \n",
       "14.12.2007                75.0           3         4.0  Marinka  2007   \n",
       "14.12.2007                60.0           2         4.0  Marinka  2007   \n",
       "13.12.2007                90.0           2         4.0  Marinka  2007   \n",
       "13.12.2007               120.0           3         4.0  Marinka  2007   \n",
       "7.12.2007                120.0           4         4.0  Marinka  2007   \n",
       "6.12.2007                120.0           5         4.0  Marinka  2007   \n",
       "9.1.2007                   NaN           3         4.0  Marinka  2007   \n",
       "8.1.2007                   NaN           2         NaN  Marinka  2007   \n",
       "\n",
       "            triletje  \n",
       "datum                 \n",
       "20.12.1997      1995  \n",
       "20.12.1997      1995  \n",
       "14.12.1998      1998  \n",
       "13.11.1998      1998  \n",
       "24.9.1998       1998  \n",
       "22.4.1998       1998  \n",
       "26.6.1998       1998  \n",
       "26.6.1998       1998  \n",
       "26.6.1998       1998  \n",
       "17.5.1998       1998  \n",
       "...              ...  \n",
       "14.12.2007      2007  \n",
       "14.12.2007      2007  \n",
       "14.12.2007      2007  \n",
       "14.12.2007      2007  \n",
       "13.12.2007      2007  \n",
       "13.12.2007      2007  \n",
       "7.12.2007       2007  \n",
       "6.12.2007       2007  \n",
       "9.1.2007        2007  \n",
       "8.1.2007        2007  \n",
       "\n",
       "[89 rows x 8 columns]"
      ]
     },
     "execution_count": 55,
     "metadata": {},
     "output_type": "execute_result"
    }
   ],
   "source": [
    "jedi[jedi['avtor'] == 'Marinka'].sort_values('leto')"
   ]
  },
  {
   "cell_type": "markdown",
   "metadata": {},
   "source": [
    "Vidimo, da je objavljala med letoma 1997 in 2007, kar se približno ujema z leti z največ objavami. Zato lahko deloma potrdimo povezanost števila objav receptov z avtorji."
   ]
  },
  {
   "cell_type": "code",
   "execution_count": 56,
   "metadata": {
    "scrolled": false
   },
   "outputs": [
    {
     "data": {
      "text/plain": [
       "cas priprave [min]     131.666667\n",
       "zahtevnost               2.258427\n",
       "st. porcij               4.179487\n",
       "leto                  2001.842697\n",
       "triletje              2001.101124\n",
       "dtype: float64"
      ]
     },
     "execution_count": 56,
     "metadata": {},
     "output_type": "execute_result"
    }
   ],
   "source": [
    "jedi[jedi['avtor'] == 'Marinka'].mean()"
   ]
  },
  {
   "cell_type": "markdown",
   "metadata": {},
   "source": [
    "To je njen povprečen recept. Kakšen pa je povprečen recept spletne strani?"
   ]
  },
  {
   "cell_type": "code",
   "execution_count": 57,
   "metadata": {
    "scrolled": false
   },
   "outputs": [
    {
     "data": {
      "text/plain": [
       "cas priprave [min]      74.637746\n",
       "zahtevnost               2.028470\n",
       "st. porcij               4.233193\n",
       "leto                  2008.294187\n",
       "triletje              2007.291815\n",
       "dtype: float64"
      ]
     },
     "execution_count": 57,
     "metadata": {},
     "output_type": "execute_result"
    }
   ],
   "source": [
    "jedi.mean()"
   ]
  },
  {
   "cell_type": "markdown",
   "metadata": {},
   "source": [
    "Opazimo, da se povprečno število porcij in zahtevnost približno ujemata, po drugi strani pa je povprečen recept precej krajsi in je bil objavljen skoraj 7 let kasneje. Stopnja zahtevnosti nekaj nad 2 je pričakovana, to so razmeroma lahki recepti. Število porcij je približno 4, kar je običajna količina kuhe (npr. za družino). Tudi povprečen čas priprave, dobra ura, je smiseln, saj mesne jedi kot del kosila pripravljamo približno toliko časa."
   ]
  },
  {
   "cell_type": "markdown",
   "metadata": {},
   "source": [
    "Sedaj si oglejmo razmerje med zastopanostjo vrst jedi."
   ]
  },
  {
   "cell_type": "code",
   "execution_count": 59,
   "metadata": {
    "scrolled": true
   },
   "outputs": [
    {
     "data": {
      "text/plain": [
       "array([<matplotlib.axes._subplots.AxesSubplot object at 0x0000018A6AA14CC0>], dtype=object)"
      ]
     },
     "execution_count": 59,
     "metadata": {},
     "output_type": "execute_result"
    },
    {
     "data": {
      "image/png": "[encoded data removed]",
      "text/plain": [
       "<matplotlib.figure.Figure at 0x18a6aa3bda0>"
      ]
     },
     "metadata": {},
     "output_type": "display_data"
    }
   ],
   "source": [
    "jedi_po_vrsti = jedi.groupby('vrsta')\n",
    "jedi_po_vrsti.size().plot.pie(figsize=(8, 8), subplots=True, autopct='%.2f', fontsize=10, title = 'Zastopanost jedi po vrstah')"
   ]
  },
  {
   "cell_type": "markdown",
   "metadata": {},
   "source": [
    "Kot vidimo, je najbolj priljubljena perutnina, notranji deli, drobnica in koline pa najmanj. Je morda vzrok v zahtevnosti priprave?"
   ]
  },
  {
   "cell_type": "code",
   "execution_count": 60,
   "metadata": {
    "scrolled": false
   },
   "outputs": [
    {
     "data": {
      "text/plain": [
       "<matplotlib.axes._subplots.AxesSubplot at 0x18a6aafbe48>"
      ]
     },
     "execution_count": 60,
     "metadata": {},
     "output_type": "execute_result"
    },
    {
     "data": {
      "image/png": "[encoded data removed]",
      "text/plain": [
       "<matplotlib.figure.Figure at 0x18a6ab05278>"
      ]
     },
     "metadata": {},
     "output_type": "display_data"
    }
   ],
   "source": [
    "je_zahtevnejsa = jedi['zahtevnost'] >= 4\n",
    "zahtevnejse_jedi = jedi[je_zahtevnejsa]\n",
    "stevec_zahtevnejsih = zahtevnejse_jedi['vrsta'].value_counts()\n",
    "stevec_jedi = jedi['vrsta'].value_counts()\n",
    "(stevec_zahtevnejsih / stevec_jedi.astype(float)).plot.bar(title = 'Delež zahtevnejsih jedi po vrstah')"
   ]
  },
  {
   "cell_type": "markdown",
   "metadata": {},
   "source": [
    "Vidimo, da izstopata kategoriji drobnica in koline, kjer je večji delež jedi zahtevnejsih, kar pa ne velja za notranje dele."
   ]
  },
  {
   "cell_type": "code",
   "execution_count": 61,
   "metadata": {
    "scrolled": true
   },
   "outputs": [
    {
     "data": {
      "text/plain": [
       "<matplotlib.axes._subplots.AxesSubplot at 0x18a6aba4a90>"
      ]
     },
     "execution_count": 61,
     "metadata": {},
     "output_type": "execute_result"
    },
    {
     "data": {
      "image/png": "[encoded data removed]",
      "text/plain": [
       "<matplotlib.figure.Figure at 0x18a6ab2f780>"
      ]
     },
     "metadata": {},
     "output_type": "display_data"
    }
   ],
   "source": [
    "je_lazja = jedi['zahtevnost'] == 1\n",
    "lazje_jedi = jedi[je_lazja]\n",
    "stevec_lazjih = lazje_jedi['vrsta'].value_counts()\n",
    "stevec_jedi = jedi['vrsta'].value_counts()\n",
    "(stevec_lazjih / stevec_jedi.astype(float)).plot.bar(title = 'Delež enostavnejsih jedi po vrstah')"
   ]
  },
  {
   "cell_type": "markdown",
   "metadata": {},
   "source": [
    "Pri enostavnejsih jedeh ni večjih odstopanj. Morda tudi zato, ker je teh največ.\n",
    "Iz zgornjih grafov lahko približno sklepamo, da so zahtevnejše jedi vrst, ki se redkeje pojavljajo, bolj zastopane vrste pa prispevajo več lažjih jedi. Po drugi strani pa je npr. perutnina prisotna v vsakdanji uporabi in jo zato spretneje uporabljamo od bolj eksotičnih vrst kot so npr. notranji deli."
   ]
  },
  {
   "cell_type": "markdown",
   "metadata": {},
   "source": [
    "Sedaj leta zapakirajmo v triletja, da bomo lažje predstavili časovno razporeditev podatkov."
   ]
  },
  {
   "cell_type": "code",
   "execution_count": 78,
   "metadata": {},
   "outputs": [
    {
     "data": {
      "text/plain": [
       "triletje\n",
       "1995      2\n",
       "1998     54\n",
       "2001    170\n",
       "2004    375\n",
       "2007    364\n",
       "2010    444\n",
       "2013    226\n",
       "2016     51\n",
       "dtype: int64"
      ]
     },
     "execution_count": 78,
     "metadata": {},
     "output_type": "execute_result"
    }
   ],
   "source": [
    "jedi['triletje'] = 3 * (jedi['leto'] // 3)\n",
    "jedi_po_triletjih = jedi.groupby('triletje')\n",
    "jedi_po_triletjih.size()"
   ]
  },
  {
   "cell_type": "markdown",
   "metadata": {},
   "source": [
    "Zanima nas zastopanost vrst jedi po obdobjih, kar bomo predstavili z matriko."
   ]
  },
  {
   "cell_type": "code",
   "execution_count": 79,
   "metadata": {
    "scrolled": true
   },
   "outputs": [
    {
     "data": {
      "text/plain": [
       "triletje  vrsta          \n",
       "1995      govedina            1\n",
       "          ostalo              1\n",
       "1998      divjačina           4\n",
       "          drobnica            2\n",
       "          govedina            6\n",
       "          mešano meso         2\n",
       "          ostalo              5\n",
       "          perutnina          11\n",
       "          sesekljano meso     7\n",
       "          svinjina           12\n",
       "                             ..\n",
       "2013      teletina            8\n",
       "2016      divjačina           2\n",
       "          govedina            8\n",
       "          koline              1\n",
       "          mešano meso         4\n",
       "          ostalo              2\n",
       "          perutnina          19\n",
       "          sesekljano meso     4\n",
       "          svinjina            8\n",
       "          teletina            3\n",
       "Length: 75, dtype: int64"
      ]
     },
     "execution_count": 79,
     "metadata": {},
     "output_type": "execute_result"
    }
   ],
   "source": [
    "zastopanost_vrst = jedi.groupby(['triletje', 'vrsta']).size()\n",
    "zastopanost_vrst"
   ]
  },
  {
   "cell_type": "code",
   "execution_count": 80,
   "metadata": {
    "scrolled": false
   },
   "outputs": [
    {
     "data": {
      "text/plain": [
       "<matplotlib.axes._subplots.AxesSubplot at 0x18a6c414a58>"
      ]
     },
     "execution_count": 80,
     "metadata": {},
     "output_type": "execute_result"
    },
    {
     "data": {
      "image/png": "[encoded data removed]",
      "text/plain": [
       "<matplotlib.figure.Figure at 0x18a6c3f1fd0>"
      ]
     },
     "metadata": {},
     "output_type": "display_data"
    }
   ],
   "source": [
    "matrika_zastopanosti = zastopanost_vrst.unstack()\n",
    "matrika_popularnosti = matrika_zastopanosti.apply(lambda st: st / st.sum(), axis=1)\n",
    "matrika_popularnosti.plot(kind='area')"
   ]
  },
  {
   "cell_type": "markdown",
   "metadata": {},
   "source": [
    "Opazimo, da je razmerje med zastopanostjo posameznih vrst približno konstantno. Odstopajo prva leta, ki pa jih zaradi manjšega števila podatkov lahko zanemarimo."
   ]
  },
  {
   "cell_type": "markdown",
   "metadata": {},
   "source": [
    "Zanima nas, ali obstaja povezava med številom porcij in časom priprave. Zato narišimo razsevni diagram."
   ]
  },
  {
   "cell_type": "code",
   "execution_count": 81,
   "metadata": {
    "scrolled": true
   },
   "outputs": [
    {
     "data": {
      "text/plain": [
       "<matplotlib.axes._subplots.AxesSubplot at 0x18a6c530048>"
      ]
     },
     "execution_count": 81,
     "metadata": {},
     "output_type": "execute_result"
    },
    {
     "data": {
      "image/png": "[encoded data removed]",
      "text/plain": [
       "<matplotlib.figure.Figure at 0x18a6c385c88>"
      ]
     },
     "metadata": {},
     "output_type": "display_data"
    }
   ],
   "source": [
    "jedi.plot.scatter('st. porcij', 'cas priprave [min]', title = 'Odvisnost časa priprave od števila porcij')"
   ]
  },
  {
   "cell_type": "markdown",
   "metadata": {},
   "source": [
    "Očitno nista odvisna, saj graf ne kaže jasne povezanosti. Le manjšo zgostitev opazimo levo spodaj, torej za manjše porcije porabimo manj časa.\n",
    "Pričakovali bi, da pa je čas priprave odvisen od zahtevnosti."
   ]
  },
  {
   "cell_type": "code",
   "execution_count": 82,
   "metadata": {
    "scrolled": false
   },
   "outputs": [
    {
     "data": {
      "text/plain": [
       "<matplotlib.axes._subplots.AxesSubplot at 0x18a6c592470>"
      ]
     },
     "execution_count": 82,
     "metadata": {},
     "output_type": "execute_result"
    },
    {
     "data": {
      "image/png": "[encoded data removed]",
      "text/plain": [
       "<matplotlib.figure.Figure at 0x18a6c60c128>"
      ]
     },
     "metadata": {},
     "output_type": "display_data"
    }
   ],
   "source": [
    "jedi.plot.scatter('zahtevnost', 'cas priprave [min]', title = 'Odvisnost časa priprave od zahtevnosti')"
   ]
  },
  {
   "cell_type": "markdown",
   "metadata": {},
   "source": [
    "Ne deluje prepričljivo, čeprav se pri zahtevnosti stopnje 4 in 5 čas podaljšuje. Verjetno na graf vpliva neenakomerna količina podatkov. Zato izračunajmo povprečni čas vsake stopnje zahtevnosti."
   ]
  },
  {
   "cell_type": "code",
   "execution_count": 92,
   "metadata": {
    "scrolled": false
   },
   "outputs": [
    {
     "data": {
      "text/plain": [
       "zahtevnost\n",
       "1     58.555556\n",
       "2     69.015957\n",
       "3     96.660232\n",
       "4    139.772727\n",
       "5    200.000000\n",
       "Name: cas priprave [min], dtype: float64"
      ]
     },
     "execution_count": 92,
     "metadata": {},
     "output_type": "execute_result"
    }
   ],
   "source": [
    "jedi_po_zahtevnosti = jedi.groupby('zahtevnost')\n",
    "jedi_po_zahtevnosti['cas priprave [min]'].mean()"
   ]
  },
  {
   "cell_type": "markdown",
   "metadata": {},
   "source": [
    "Vidimo, da se čas povečuje, kar smo pričakovali."
   ]
  },
  {
   "cell_type": "markdown",
   "metadata": {},
   "source": [
    "Iz radovednosti, saj je v vzorčnem primeru dobro delovalo napovedovanje žanra iz naslova serije, poskusimo napovedati vrsto jedi iz imena. Moja hipoteza je, da ne bo zanesljivo, saj so imena jedi dostikrat nepovezana s sestavinami, hkrati pa se podobne besede (npr. zrezek, omaka) pojavljajo v različnih, nepodobnih jedeh. Pa vseeno poskusimo."
   ]
  },
  {
   "cell_type": "code",
   "execution_count": 93,
   "metadata": {
    "collapsed": true
   },
   "outputs": [],
   "source": [
    "def koren_besede(beseda):\n",
    "    besede = ''.join(znak for znak in beseda if znak.isalpha())\n",
    "    if not beseda:\n",
    "        return '$'\n",
    "    konec = len(beseda) - 1\n",
    "    while konec >= 0 and beseda[konec] in 'aeiou':\n",
    "        konec -= 1\n",
    "    return beseda[:konec + 1]\n",
    "\n",
    "def koreni_besed(niz):\n",
    "    return pd.Series(list({\n",
    "        koren_besede(beseda) for beseda in niz.replace('-', ' ').lower().split() if beseda\n",
    "    }))\n",
    "\n",
    "def koreni_jedi(nizi):\n",
    "    return nizi[nizi.notnull()].apply(\n",
    "        koreni_besed\n",
    "    ).stack().reset_index(level=1, drop=True)\n",
    "\n",
    "def verjetnosti_po_vrstah(dogodki_po_jedeh):\n",
    "    dogodki_po_jedeh.name = 'dogodek'\n",
    "    dogodki_po_vrstah = jedi.join(pd.DataFrame(dogodki_po_jedeh))\n",
    "    pogostost_dogodkov = pd.crosstab(dogodki_po_vrstah.dogodek, dogodki_po_vrstah.vrsta)\n",
    "    pogostost_dogodkov += 1\n",
    "    return pogostost_dogodkov / pogostost_dogodkov.sum()"
   ]
  },
  {
   "cell_type": "code",
   "execution_count": 94,
   "metadata": {
    "collapsed": true
   },
   "outputs": [],
   "source": [
    "verjetnost_vrste = jedi.groupby('vrsta').size() / len(jedi)\n",
    "verjetnost_korena_jedi_pri_vrsti = verjetnosti_po_vrstah(koreni_jedi(jedi['jed']))"
   ]
  },
  {
   "cell_type": "code",
   "execution_count": 95,
   "metadata": {
    "scrolled": true
   },
   "outputs": [
    {
     "data": {
      "text/plain": [
       "vrsta\n",
       "koline             0.012456\n",
       "notranji deli      0.016014\n",
       "drobnica           0.020759\n",
       "divjačina          0.030842\n",
       "teletina           0.036773\n",
       "mešano meso        0.082444\n",
       "sesekljano meso    0.092527\n",
       "ostalo             0.107355\n",
       "svinjina           0.131673\n",
       "govedina           0.132859\n",
       "perutnina          0.330368\n",
       "dtype: float64"
      ]
     },
     "execution_count": 95,
     "metadata": {},
     "output_type": "execute_result"
    }
   ],
   "source": [
    "verjetnost_vrste.sort_values()"
   ]
  },
  {
   "cell_type": "code",
   "execution_count": 96,
   "metadata": {},
   "outputs": [
    {
     "data": {
      "text/plain": [
       "dogodek\n",
       "v          0.029390\n",
       "govej      0.029023\n",
       "s          0.020206\n",
       "omak       0.019471\n",
       "z          0.018001\n",
       "zrezk      0.016899\n",
       "govedin    0.015062\n",
       "p          0.009919\n",
       "in         0.009184\n",
       "iz         0.008450\n",
       "Name: govedina, dtype: float64"
      ]
     },
     "execution_count": 96,
     "metadata": {},
     "output_type": "execute_result"
    }
   ],
   "source": [
    "verjetnost_korena_jedi_pri_vrsti['govedina'].sort_values(ascending=False).head(10)"
   ]
  },
  {
   "cell_type": "code",
   "execution_count": 97,
   "metadata": {
    "scrolled": true
   },
   "outputs": [
    {
     "data": {
      "text/plain": [
       "dogodek\n",
       "telečj     0.021884\n",
       "v          0.012158\n",
       "z          0.011550\n",
       "zrezk      0.011550\n",
       "s          0.008511\n",
       "prs        0.005471\n",
       "omak       0.005471\n",
       "pečenk     0.005471\n",
       "nadevan    0.004863\n",
       "krač       0.004255\n",
       "Name: teletina, dtype: float64"
      ]
     },
     "execution_count": 97,
     "metadata": {},
     "output_type": "execute_result"
    }
   ],
   "source": [
    "verjetnost_korena_jedi_pri_vrsti['teletina'].sort_values(ascending=False).head(10)"
   ]
  },
  {
   "cell_type": "markdown",
   "metadata": {},
   "source": [
    "Zaenkrat sledimo hipotezi, namreč pri preizkušenih vrstah (govedina in teletina) se pogosto pojavita korena 'zrezk' in 'omak', na podlagi katerih ne bomo mogli sklpeati na pravo vrsto jedi."
   ]
  },
  {
   "cell_type": "code",
   "execution_count": 99,
   "metadata": {
    "collapsed": true
   },
   "outputs": [],
   "source": [
    "def doloci_vrste(jed):\n",
    "    faktorji_vrst = verjetnost_vrste * verjetnost_korena_jedi_pri_vrsti[\n",
    "        verjetnost_korena_jedi_pri_vrsti.index.isin(\n",
    "            koreni_besed(jed)\n",
    "        )\n",
    "    ].prod()\n",
    "    faktorji_vrst /= max(faktorji_vrst)\n",
    "    return faktorji_vrst.sort_values(ascending=False).head(5)"
   ]
  },
  {
   "cell_type": "markdown",
   "metadata": {},
   "source": [
    "Preverimo na nekaj primerih:"
   ]
  },
  {
   "cell_type": "code",
   "execution_count": 101,
   "metadata": {},
   "outputs": [
    {
     "data": {
      "text/plain": [
       "vrsta\n",
       "perutnina          1.000000\n",
       "govedina           0.098219\n",
       "ostalo             0.073402\n",
       "mešano meso        0.041829\n",
       "sesekljano meso    0.040874\n",
       "dtype: float64"
      ]
     },
     "execution_count": 101,
     "metadata": {},
     "output_type": "execute_result"
    }
   ],
   "source": [
    "doloci_vrste('Mehiška tortilja')"
   ]
  },
  {
   "cell_type": "code",
   "execution_count": 102,
   "metadata": {
    "scrolled": true
   },
   "outputs": [
    {
     "data": {
      "text/plain": [
       "vrsta\n",
       "perutnina          1.000000\n",
       "svinjina           0.479717\n",
       "govedina           0.248123\n",
       "divjačina          0.049655\n",
       "sesekljano meso    0.048403\n",
       "dtype: float64"
      ]
     },
     "execution_count": 102,
     "metadata": {},
     "output_type": "execute_result"
    }
   ],
   "source": [
    "doloci_vrste('Divjačinski zrezki v omaki')"
   ]
  },
  {
   "cell_type": "code",
   "execution_count": 103,
   "metadata": {
    "scrolled": true
   },
   "outputs": [
    {
     "data": {
      "text/plain": [
       "vrsta\n",
       "perutnina          1.000000\n",
       "ostalo             0.590500\n",
       "svinjina           0.522939\n",
       "govedina           0.224291\n",
       "sesekljano meso    0.078393\n",
       "dtype: float64"
      ]
     },
     "execution_count": 103,
     "metadata": {},
     "output_type": "execute_result"
    }
   ],
   "source": [
    "doloci_vrste('Vampi s krompirjem')"
   ]
  },
  {
   "cell_type": "markdown",
   "metadata": {},
   "source": [
    "Opazimo, da je povsod vrednost za 'perutnina' enaka kar 1, kar kaže na nepravilnost. Še več, verjetnosti se zdijo skoraj naključne, saj bi pri 'Divjačinski zrezki v omaki', kjer je že v imenu jedi koren enak korenu v vrsti ('divjačina'), pričakovali pravilno napoved. Zaključimo lahko, da bi za natančnejše določanje vrst potrebovali podrobnejše opise receptov s sestavinami, ali vsaj 'šablonska' imena, na podlagi katerih bi bolje vedeli, kaj vsebujejo."
   ]
  },
  {
   "cell_type": "markdown",
   "metadata": {},
   "source": [
    "Tjaša Vrhovnik, januar 2018"
   ]
  }
 ],
 "metadata": {
  "kernelspec": {
   "display_name": "Python 3",
   "language": "python",
   "name": "python3"
  },
  "language_info": {
   "codemirror_mode": {
    "name": "ipython",
    "version": 3
   },
   "file_extension": ".py",
   "mimetype": "text/x-python",
   "name": "python",
   "nbconvert_exporter": "python",
   "pygments_lexer": "ipython3",
   "version": "3.6.2"
  }
 },
 "nbformat": 4,
 "nbformat_minor": 2
}
